{
 "cells": [
  {
   "cell_type": "markdown",
   "id": "31fc12b7",
   "metadata": {},
   "source": [
    "# Data Science Tools and Ecosystem"
   ]
  },
  {
   "cell_type": "markdown",
   "id": "dc22ca6e",
   "metadata": {},
   "source": [
    "In this notebook is for introducing Data Scinece Tool and Ecosystem "
   ]
  },
  {
   "cell_type": "markdown",
   "id": "e83b4d61",
   "metadata": {},
   "source": [
    "***Objectives:*** \n",
    "* To know how to use Markdown. \n",
    "* To be able to change mode in each cell.\n",
    "* To be able to run code in the cell."
   ]
  },
  {
   "cell_type": "markdown",
   "id": "883c3ada",
   "metadata": {},
   "source": [
    "Here are some of the popular languages that Data Scienctist use are :\n",
    "1. python\n",
    "2. R \n",
    "3. SQL"
   ]
  },
  {
   "cell_type": "markdown",
   "id": "d10a9e4a",
   "metadata": {},
   "source": [
    "Some of the commonly used libraries used by Data Scientists include:\n",
    "1. Pandas\n",
    "2. TensorFlow\n",
    "3. Numpy\n",
    "4. SciPy\n"
   ]
  },
  {
   "cell_type": "markdown",
   "id": "47b6751c",
   "metadata": {},
   "source": [
    "| Data Science Tools |\n",
    "|------|\n",
    "| Rstudio |\n",
    "| Apache Spark|\n",
    "| RapidMiner|"
   ]
  },
  {
   "cell_type": "markdown",
   "id": "9a665f34",
   "metadata": {},
   "source": [
    "### Below are a few examples of evaluating arithmetic expressions in Python"
   ]
  },
  {
   "cell_type": "code",
   "execution_count": 1,
   "id": "ca54cac6",
   "metadata": {},
   "outputs": [
    {
     "data": {
      "text/plain": [
       "17"
      ]
     },
     "execution_count": 1,
     "metadata": {},
     "output_type": "execute_result"
    }
   ],
   "source": [
    "# Here is a simple arithmetic expression to mutiply then add integers.\n",
    "( 3 * 4 ) + 5"
   ]
  },
  {
   "cell_type": "code",
   "execution_count": 2,
   "id": "0797bea7",
   "metadata": {},
   "outputs": [
    {
     "data": {
      "text/plain": [
       "3.3333333333333335"
      ]
     },
     "execution_count": 2,
     "metadata": {},
     "output_type": "execute_result"
    }
   ],
   "source": [
    "# The following code will convert 200 minutes to hours by diving by 60\n",
    "200 / 60"
   ]
  },
  {
   "cell_type": "markdown",
   "id": "ec05056e",
   "metadata": {},
   "source": [
    "## Author : Sakchai Saehoei"
   ]
  },
  {
   "cell_type": "code",
   "execution_count": null,
   "id": "6a3eb412",
   "metadata": {},
   "outputs": [],
   "source": []
  }
 ],
 "metadata": {
  "kernelspec": {
   "display_name": "Python 3 (ipykernel)",
   "language": "python",
   "name": "python3"
  },
  "language_info": {
   "codemirror_mode": {
    "name": "ipython",
    "version": 3
   },
   "file_extension": ".py",
   "mimetype": "text/x-python",
   "name": "python",
   "nbconvert_exporter": "python",
   "pygments_lexer": "ipython3",
   "version": "3.10.11"
  }
 },
 "nbformat": 4,
 "nbformat_minor": 5
}
